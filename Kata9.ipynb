{
 "cells": [
  {
   "cell_type": "markdown",
   "metadata": {},
   "source": [
    "## Uso de funciones en Pyton. "
   ]
  },
  {
   "cell_type": "code",
   "execution_count": 9,
   "metadata": {},
   "outputs": [],
   "source": [
    "def promedio_tanques(*args):\n",
    "    return args/3"
   ]
  },
  {
   "cell_type": "code",
   "execution_count": 10,
   "metadata": {},
   "outputs": [],
   "source": [
    "def chequeo(tanque1, tanque2, tanque3):\n",
    "    suma= tanque1+tanque2+tanque3\n",
    "    return print(f\"\"\" \n",
    "    Estado de los tanques.\n",
    "    ---------------------------------------------------\n",
    "    Tanque 1: {tanque1} lts.\n",
    "    Tanque 2: {tanque2} lts.\n",
    "    Tanque 3: {tanque3} lts.\n",
    "    ---------------------------------------------------\n",
    "    Promedio de Tanques: {round(promedio_tanques(suma))}\n",
    "    \"\"\") "
   ]
  },
  {
   "cell_type": "code",
   "execution_count": 6,
   "metadata": {},
   "outputs": [
    {
     "name": "stdout",
     "output_type": "stream",
     "text": [
      " \n",
      "    Estado de los tanques.\n",
      "    ---------------------------------------------------\n",
      "    Tanque 1: 15 lts.\n",
      "    Tanque 2: 12 lts.\n",
      "    Tanque 3: 18 lts.\n",
      "\n",
      "    Promedio de cantidad de conbustible: 15\n",
      "    ----------------------------------------------------\n",
      "    \n",
      "None\n"
     ]
    }
   ],
   "source": [
    "print(chequeo(15,12,18))"
   ]
  },
  {
   "cell_type": "markdown",
   "metadata": {},
   "source": [
    "## Trabajando con argumento de palabra clave."
   ]
  },
  {
   "cell_type": "code",
   "execution_count": null,
   "metadata": {},
   "outputs": [],
   "source": []
  }
 ],
 "metadata": {
  "interpreter": {
   "hash": "9bf2ca0f4a7adc3ce2f237ca763c1538d3ef289a4e7face3612a01cdae9f6807"
  },
  "kernelspec": {
   "display_name": "Python 3.10.1 64-bit",
   "language": "python",
   "name": "python3"
  },
  "language_info": {
   "codemirror_mode": {
    "name": "ipython",
    "version": 3
   },
   "file_extension": ".py",
   "mimetype": "text/x-python",
   "name": "python",
   "nbconvert_exporter": "python",
   "pygments_lexer": "ipython3",
   "version": "3.10.1"
  },
  "orig_nbformat": 4
 },
 "nbformat": 4,
 "nbformat_minor": 2
}
