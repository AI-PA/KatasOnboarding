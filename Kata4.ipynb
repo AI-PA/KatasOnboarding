{
 "cells": [
  {
   "cell_type": "markdown",
   "metadata": {},
   "source": [
    "### Trasformar cadenas."
   ]
  },
  {
   "cell_type": "code",
   "execution_count": 7,
   "metadata": {},
   "outputs": [],
   "source": [
    "text = \"\"\"Interesting facts about the Moon. The Moon is Earth's only satellite. There are several interesting facts about the Moon and how it affects life here on Earth. \\n\",\n",
    "        \"On average, the Moon moves 4cm away from the Earth every year. This yearly drift is not significant enough to cause immediate effects on Earth. The highest daylight temperature of the Moon is 127 C.\"\"\""
   ]
  },
  {
   "cell_type": "code",
   "execution_count": 11,
   "metadata": {},
   "outputs": [],
   "source": [
    "information=text.split(\".\")\n",
    "pista= [\"average\",\"temperature\",\"distance\"]\n"
   ]
  },
  {
   "cell_type": "code",
   "execution_count": 13,
   "metadata": {},
   "outputs": [
    {
     "name": "stdout",
     "output_type": "stream",
     "text": [
      "Interesting facts about the Moon\n",
      " The Moon is Earth's only satellite\n",
      " There are several interesting facts about the Moon and how it affects life here on Earth\n",
      " This yearly drift is not significant enough to cause immediate effects on Earth\n",
      " The highest daylight temperature of the Moon is 127 Celsius\n"
     ]
    }
   ],
   "source": [
    "for letter in information:\n",
    "    for pista in pista:\n",
    "        if pista in letter:\n",
    "            print(letter.replace('C', 'Celsius'))\n",
    "            break\n",
    "\n",
    "\n"
   ]
  },
  {
   "cell_type": "markdown",
   "metadata": {},
   "source": [
    "# Formateado de Cadenas"
   ]
  },
  {
   "cell_type": "code",
   "execution_count": 15,
   "metadata": {},
   "outputs": [],
   "source": [
    "# Datos con los que vas a trabajar\n",
    "name = \"Moon 🌒\"\n",
    "gravity = 0.00162 # in kms\n",
    "planet = \"Earth 🌎\""
   ]
  },
  {
   "cell_type": "code",
   "execution_count": 28,
   "metadata": {},
   "outputs": [],
   "source": [
    "title=(f\"Information gravity of the {name}\")\n",
    "information=f\"\"\"|{'-'*100}|\n",
    " planet: {planet}  \n",
    " gravity on {name}: {gravity*1000}m/s^2\n",
    "|{'-'*100}|\"\"\"\n",
    "\n",
    "template=f\"\"\"{title.title()}\n",
    "{information}\"\"\""
   ]
  },
  {
   "cell_type": "code",
   "execution_count": 31,
   "metadata": {},
   "outputs": [
    {
     "name": "stdout",
     "output_type": "stream",
     "text": [
      "Information Gravity Of The Moon 🌒\n",
      "|----------------------------------------------------------------------------------------------------|\n",
      " planet: Earth 🌎  \n",
      " gravity on Moon 🌒: 1.6199999999999999m/s^2\n",
      "|----------------------------------------------------------------------------------------------------|\n"
     ]
    }
   ],
   "source": [
    "print(template)"
   ]
  },
  {
   "cell_type": "code",
   "execution_count": 30,
   "metadata": {},
   "outputs": [],
   "source": [
    "# Nuevos datos muestra\n",
    "planet = 'Marte 🔴'\n",
    "gravity  = 0.00143\n",
    "name = 'Ganímedes 🌑'"
   ]
  },
  {
   "cell_type": "code",
   "execution_count": 35,
   "metadata": {},
   "outputs": [
    {
     "name": "stdout",
     "output_type": "stream",
     "text": [
      " \n",
      "Information Gravity Of The Ganímedes 🌑\n",
      "|--------------------------------------------------|\n",
      " plantet = Marte 🔴\n",
      " gravity on Ganímedes 🌑: 1.4300000000000002 m/s^2\n",
      "|--------------------------------------------------|\n",
      "\n"
     ]
    }
   ],
   "source": [
    "gravity= gravity*1000\n",
    "new_template=f\"\"\" \n",
    "Information Gravity Of The {name}\n",
    "|--------------------------------------------------|\n",
    " plantet = {planet}\n",
    " gravity on {name}: {gravity} m/s^2\n",
    "|--------------------------------------------------|\n",
    "\"\"\"\n",
    "print(new_template.format(name=name,planet=planet,gravity=gravity))"
   ]
  }
 ],
 "metadata": {
  "interpreter": {
   "hash": "9bf2ca0f4a7adc3ce2f237ca763c1538d3ef289a4e7face3612a01cdae9f6807"
  },
  "kernelspec": {
   "display_name": "Python 3.10.1 64-bit",
   "language": "python",
   "name": "python3"
  },
  "language_info": {
   "codemirror_mode": {
    "name": "ipython",
    "version": 3
   },
   "file_extension": ".py",
   "mimetype": "text/x-python",
   "name": "python",
   "nbconvert_exporter": "python",
   "pygments_lexer": "ipython3",
   "version": "3.10.1"
  },
  "orig_nbformat": 4
 },
 "nbformat": 4,
 "nbformat_minor": 2
}
