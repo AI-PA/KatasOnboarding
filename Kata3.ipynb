{
 "cells": [
  {
   "cell_type": "markdown",
   "metadata": {},
   "source": [
    "### Números Randoms para le velocidad de la nave. "
   ]
  },
  {
   "cell_type": "code",
   "execution_count": 42,
   "metadata": {},
   "outputs": [
    {
     "name": "stdout",
     "output_type": "stream",
     "text": [
      "77km/s & 9m\n"
     ]
    }
   ],
   "source": [
    "import random\n",
    "velocidad_asteroide= random.randint(1,100)\n",
    "tamano_asteroide= random.randint(1,1000)\n",
    "print (\"{}km/s & {}m\".format(velocidad_asteroide,tamano_asteroide))\n"
   ]
  },
  {
   "cell_type": "markdown",
   "metadata": {},
   "source": [
    "Ejercicios de sentencia if, elif & else."
   ]
  },
  {
   "cell_type": "code",
   "execution_count": 44,
   "metadata": {},
   "outputs": [
    {
     "name": "stdout",
     "output_type": "stream",
     "text": [
      "Un asteroide se acerca, y viaja a una velocidad de 77km/s ☄\n"
     ]
    }
   ],
   "source": [
    "if velocidad_asteroide >=25:\n",
    "    print(\"Un asteroide se acerca, y viaja a una velocidad de {}km/s ☄\".format(velocidad_asteroide))\n",
    "elif velocidad_asteroide >=20:\n",
    "    print(\"¡Hay uno que se dirige a la tierra ahora a una velocidad de {}km/s \".format(velocidad_asteroide))\n",
    "    print(\"¡¡Wachen el paisaje porque hay una luz mágica en el cielo !! 🌠\")\n",
    "else:\n",
    "    print(\"Todo esta bien 👍\")\n",
    "    print(\"¡Nada que ver aquí !\")"
   ]
  },
  {
   "cell_type": "markdown",
   "metadata": {},
   "source": [
    "Ejercicios con operadores and & or "
   ]
  },
  {
   "cell_type": "code",
   "execution_count": 43,
   "metadata": {},
   "outputs": [
    {
     "name": "stdout",
     "output_type": "stream",
     "text": [
      "¡Detección de presencia de luz magica en el cielo 🌠, wachen el paisaje\n"
     ]
    }
   ],
   "source": [
    "if tamano_asteroide > 25 and velocidad_asteroide >25: \n",
    "    print(\"¡⚠ Alerta se acerca un asteriode de {} metros con una velocidad de {} km/s ☄⚠ !!\".format(tamano_asteroide,velocidad_asteroide))\n",
    "elif velocidad_asteroide >=20:\n",
    "    print(\"¡Detección de presencia de luz magica en el cielo 🌠, wachen el paisaje\")\n",
    "elif tamano_asteroide <25 or velocidad_asteroide <20:\n",
    "    print(\"¡Nada que ver aquí 👀, cambio y fuera!\")\n",
    "else: \n",
    "    print(\" ⚠posible daño en la infrestructura del equipo. ERROR❌!!!!\")"
   ]
  }
 ],
 "metadata": {
  "interpreter": {
   "hash": "9bf2ca0f4a7adc3ce2f237ca763c1538d3ef289a4e7face3612a01cdae9f6807"
  },
  "kernelspec": {
   "display_name": "Python 3.10.1 64-bit",
   "language": "python",
   "name": "python3"
  },
  "language_info": {
   "codemirror_mode": {
    "name": "ipython",
    "version": 3
   },
   "file_extension": ".py",
   "mimetype": "text/x-python",
   "name": "python",
   "nbconvert_exporter": "python",
   "pygments_lexer": "ipython3",
   "version": "3.10.1"
  },
  "orig_nbformat": 4
 },
 "nbformat": 4,
 "nbformat_minor": 2
}
