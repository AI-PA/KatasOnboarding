{
 "cells": [
  {
   "cell_type": "markdown",
   "metadata": {},
   "source": [
    "### Utilizar operadores aritméticos."
   ]
  },
  {
   "cell_type": "code",
   "execution_count": 2,
   "metadata": {},
   "outputs": [
    {
     "name": "stdout",
     "output_type": "stream",
     "text": [
      "distnacia tierra-jupiter 628949330km & 390810995.0389724mi\n"
     ]
    }
   ],
   "source": [
    "Tierra= 149597870\n",
    "Jupiter=778547200\n",
    "#distancia en km, suponiendo que estan superpuesto unos con el otro foramdno un angulo 0°\n",
    "distancia= Jupiter-Tierra\n",
    "distancia_mi= distancia/1.609344\n",
    "print(f\"distnacia tierra-jupiter {distancia}km & {distancia_mi}mi\")\n",
    "\n"
   ]
  },
  {
   "cell_type": "markdown",
   "metadata": {},
   "source": [
    "### Convierte cadenas en números y usa valores absolutos."
   ]
  },
  {
   "cell_type": "code",
   "execution_count": 3,
   "metadata": {},
   "outputs": [],
   "source": [
    "planeta1=int(input(\"introduccir la distancia en km, al sol del primer planeta: \"))\n",
    "planeta2=int(input(\"introduccir la distancia en km, al sol del segunndo planeta: \")) \n",
    "distancia_input= abs(planeta1-planeta2)\n",
    "print(f\"la distancia que se encuentra entre los dos planetas es de {distancia_input}km y a {distancia_input/1.609344}mi\")"
   ]
  }
 ],
 "metadata": {
  "interpreter": {
   "hash": "9bf2ca0f4a7adc3ce2f237ca763c1538d3ef289a4e7face3612a01cdae9f6807"
  },
  "kernelspec": {
   "display_name": "Python 3.10.1 64-bit",
   "language": "python",
   "name": "python3"
  },
  "language_info": {
   "codemirror_mode": {
    "name": "ipython",
    "version": 3
   },
   "file_extension": ".py",
   "mimetype": "text/x-python",
   "name": "python",
   "nbconvert_exporter": "python",
   "pygments_lexer": "ipython3",
   "version": "3.10.1"
  },
  "orig_nbformat": 4
 },
 "nbformat": 4,
 "nbformat_minor": 2
}
